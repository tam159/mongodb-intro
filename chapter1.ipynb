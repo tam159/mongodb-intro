{
 "cells": [
  {
   "cell_type": "code",
   "execution_count": 1,
   "id": "481d16ba",
   "metadata": {},
   "outputs": [],
   "source": [
    "from pymongo import MongoClient"
   ]
  },
  {
   "cell_type": "code",
   "execution_count": 2,
   "id": "d7ebce92",
   "metadata": {},
   "outputs": [],
   "source": [
    "client = MongoClient(port=27017)"
   ]
  },
  {
   "cell_type": "code",
   "execution_count": 3,
   "id": "3df37d78",
   "metadata": {},
   "outputs": [],
   "source": [
    "db = client.nobel"
   ]
  },
  {
   "cell_type": "code",
   "execution_count": 4,
   "id": "5683fc55",
   "metadata": {},
   "outputs": [],
   "source": [
    "prizes_collection = db[\"prizes\"]"
   ]
  },
  {
   "cell_type": "code",
   "execution_count": 5,
   "id": "2232f750",
   "metadata": {},
   "outputs": [],
   "source": [
    "filter = {}"
   ]
  },
  {
   "cell_type": "code",
   "execution_count": 6,
   "id": "a0bf2baa",
   "metadata": {},
   "outputs": [],
   "source": [
    "n_prizes = db.prizes.count_documents(filter)\n",
    "n_laureates = db.laureates.count_documents(filter)"
   ]
  },
  {
   "cell_type": "code",
   "execution_count": 7,
   "id": "51f25880",
   "metadata": {},
   "outputs": [
    {
     "data": {
      "text/plain": [
       "590"
      ]
     },
     "execution_count": 7,
     "metadata": {},
     "output_type": "execute_result"
    }
   ],
   "source": [
    "n_prizes"
   ]
  },
  {
   "cell_type": "code",
   "execution_count": 8,
   "id": "6cbb06a8",
   "metadata": {},
   "outputs": [
    {
     "data": {
      "text/plain": [
       "934"
      ]
     },
     "execution_count": 8,
     "metadata": {},
     "output_type": "execute_result"
    }
   ],
   "source": [
    "n_laureates"
   ]
  },
  {
   "cell_type": "code",
   "execution_count": 9,
   "id": "922dcfd6",
   "metadata": {},
   "outputs": [
    {
     "data": {
      "text/plain": [
       "['admin', 'config', 'local', 'nobel']"
      ]
     },
     "execution_count": 9,
     "metadata": {},
     "output_type": "execute_result"
    }
   ],
   "source": [
    "client.list_database_names()"
   ]
  },
  {
   "cell_type": "code",
   "execution_count": 10,
   "id": "487fa9a2",
   "metadata": {},
   "outputs": [
    {
     "data": {
      "text/plain": [
       "['laureates', 'prizes']"
      ]
     },
     "execution_count": 10,
     "metadata": {},
     "output_type": "execute_result"
    }
   ],
   "source": [
    "client.nobel.list_collection_names()"
   ]
  },
  {
   "cell_type": "code",
   "execution_count": 15,
   "id": "bfa7383d",
   "metadata": {},
   "outputs": [],
   "source": [
    "prize = db.prizes.find_one()"
   ]
  },
  {
   "cell_type": "code",
   "execution_count": 17,
   "id": "2b78474b",
   "metadata": {},
   "outputs": [],
   "source": [
    "laureate = db.laureates.find_one()"
   ]
  },
  {
   "cell_type": "code",
   "execution_count": 18,
   "id": "02b1c2bf",
   "metadata": {},
   "outputs": [
    {
     "data": {
      "text/plain": [
       "{'_id': ObjectId('613e30001d9ba63fef1deae7'),\n",
       " 'year': '2018',\n",
       " 'category': 'physics',\n",
       " 'overallMotivation': '“for groundbreaking inventions in the field of laser physics”',\n",
       " 'laureates': [{'id': '960',\n",
       "   'firstname': 'Arthur',\n",
       "   'surname': 'Ashkin',\n",
       "   'motivation': '\"for the optical tweezers and their application to biological systems\"',\n",
       "   'share': '2'},\n",
       "  {'id': '961',\n",
       "   'firstname': 'Gérard',\n",
       "   'surname': 'Mourou',\n",
       "   'motivation': '\"for their method of generating high-intensity, ultra-short optical pulses\"',\n",
       "   'share': '4'},\n",
       "  {'id': '962',\n",
       "   'firstname': 'Donna',\n",
       "   'surname': 'Strickland',\n",
       "   'motivation': '\"for their method of generating high-intensity, ultra-short optical pulses\"',\n",
       "   'share': '4'}]}"
      ]
     },
     "execution_count": 18,
     "metadata": {},
     "output_type": "execute_result"
    }
   ],
   "source": [
    "prize"
   ]
  },
  {
   "cell_type": "code",
   "execution_count": 19,
   "id": "502791a7",
   "metadata": {},
   "outputs": [
    {
     "data": {
      "text/plain": [
       "{'_id': ObjectId('613e315452d9d355d2bc17b6'),\n",
       " 'id': '102',\n",
       " 'firstname': 'Aage Niels',\n",
       " 'surname': 'Bohr',\n",
       " 'born': '1922-06-19',\n",
       " 'died': '2009-09-08',\n",
       " 'bornCountry': 'Denmark',\n",
       " 'bornCountryCode': 'DK',\n",
       " 'bornCity': 'Copenhagen',\n",
       " 'diedCountry': 'Denmark',\n",
       " 'diedCountryCode': 'DK',\n",
       " 'diedCity': 'Copenhagen',\n",
       " 'gender': 'male',\n",
       " 'prizes': [{'year': '1975',\n",
       "   'category': 'physics',\n",
       "   'share': '3',\n",
       "   'motivation': '\"for the discovery of the connection between collective motion and particle motion in atomic nuclei and the development of the theory of the structure of the atomic nucleus based on this connection\"',\n",
       "   'affiliations': [{'name': 'Niels Bohr Institute',\n",
       "     'city': 'Copenhagen',\n",
       "     'country': 'Denmark'}]}]}"
      ]
     },
     "execution_count": 19,
     "metadata": {},
     "output_type": "execute_result"
    }
   ],
   "source": [
    "laureate"
   ]
  },
  {
   "cell_type": "code",
   "execution_count": 20,
   "id": "a66b782f",
   "metadata": {},
   "outputs": [
    {
     "data": {
      "text/plain": [
       "['_id', 'year', 'category', 'overallMotivation', 'laureates']"
      ]
     },
     "execution_count": 20,
     "metadata": {},
     "output_type": "execute_result"
    }
   ],
   "source": [
    "list(prize.keys())"
   ]
  },
  {
   "cell_type": "code",
   "execution_count": 21,
   "id": "8e946c57",
   "metadata": {},
   "outputs": [
    {
     "data": {
      "text/plain": [
       "['_id',\n",
       " 'id',\n",
       " 'firstname',\n",
       " 'surname',\n",
       " 'born',\n",
       " 'died',\n",
       " 'bornCountry',\n",
       " 'bornCountryCode',\n",
       " 'bornCity',\n",
       " 'diedCountry',\n",
       " 'diedCountryCode',\n",
       " 'diedCity',\n",
       " 'gender',\n",
       " 'prizes']"
      ]
     },
     "execution_count": 21,
     "metadata": {},
     "output_type": "execute_result"
    }
   ],
   "source": [
    "list(laureate.keys())"
   ]
  },
  {
   "cell_type": "code",
   "execution_count": 22,
   "id": "974b2681",
   "metadata": {},
   "outputs": [
    {
     "data": {
      "text/plain": [
       "38"
      ]
     },
     "execution_count": 22,
     "metadata": {},
     "output_type": "execute_result"
    }
   ],
   "source": [
    "db.laureates.count_documents({'born': {'$lt': '1700'}})"
   ]
  },
  {
   "cell_type": "code",
   "execution_count": 23,
   "id": "eae2d99d",
   "metadata": {},
   "outputs": [
    {
     "data": {
      "text/plain": [
       "38"
      ]
     },
     "execution_count": 23,
     "metadata": {},
     "output_type": "execute_result"
    }
   ],
   "source": [
    "db.laureates.count_documents({'born': {'$lt': '1800'}})"
   ]
  },
  {
   "cell_type": "code",
   "execution_count": 24,
   "id": "02b943da",
   "metadata": {},
   "outputs": [],
   "source": [
    "# Create a filter for Germany-born laureates who died in the USA and with the first name \"Albert\"\n",
    "criteria = {\"bornCountry\": \"Germany\", \n",
    "            \"diedCountry\": \"USA\", \n",
    "            \"firstname\": \"Albert\"}"
   ]
  },
  {
   "cell_type": "code",
   "execution_count": 25,
   "id": "30162757",
   "metadata": {},
   "outputs": [
    {
     "data": {
      "text/plain": [
       "1"
      ]
     },
     "execution_count": 25,
     "metadata": {},
     "output_type": "execute_result"
    }
   ],
   "source": [
    "db.laureates.count_documents(criteria)"
   ]
  },
  {
   "cell_type": "code",
   "execution_count": 26,
   "id": "e3bf5802",
   "metadata": {},
   "outputs": [],
   "source": [
    "# Filter for laureates born in Austria with non-Austria prize affiliation\n",
    "criteria = {\"bornCountry\": \"Austria\", \n",
    "              \"prizes.affiliations.country\": {\"$ne\": \"Austria\"}}"
   ]
  },
  {
   "cell_type": "code",
   "execution_count": 28,
   "id": "f6c6466e",
   "metadata": {},
   "outputs": [
    {
     "data": {
      "text/plain": [
       "10"
      ]
     },
     "execution_count": 28,
     "metadata": {},
     "output_type": "execute_result"
    }
   ],
   "source": [
    "# Count the number of such laureates\n",
    "db.laureates.count_documents(criteria)"
   ]
  },
  {
   "cell_type": "code",
   "execution_count": 29,
   "id": "d18131cc",
   "metadata": {},
   "outputs": [],
   "source": [
    "# Filter for documents without a \"born\" field\n",
    "criteria = {\"born\": {\"$exists\": False}}"
   ]
  },
  {
   "cell_type": "code",
   "execution_count": 30,
   "id": "22ead1fc",
   "metadata": {},
   "outputs": [
    {
     "data": {
      "text/plain": [
       "0"
      ]
     },
     "execution_count": 30,
     "metadata": {},
     "output_type": "execute_result"
    }
   ],
   "source": [
    "db.laureates.count_documents(criteria)"
   ]
  },
  {
   "cell_type": "code",
   "execution_count": 31,
   "id": "06fe5f97",
   "metadata": {},
   "outputs": [],
   "source": [
    "# Filter for laureates with at least three prizes\n",
    "criteria = {\"prizes.2\": {\"$exists\": True}}"
   ]
  },
  {
   "cell_type": "code",
   "execution_count": 32,
   "id": "b038c416",
   "metadata": {},
   "outputs": [
    {
     "data": {
      "text/plain": [
       "{'_id': ObjectId('613e315452d9d355d2bc18f0'),\n",
       " 'id': '482',\n",
       " 'firstname': 'Comité international de la Croix Rouge (International Committee of the Red Cross)',\n",
       " 'born': '0000-00-00',\n",
       " 'died': '0000-00-00',\n",
       " 'gender': 'org',\n",
       " 'prizes': [{'year': '1917',\n",
       "   'category': 'peace',\n",
       "   'share': '1',\n",
       "   'affiliations': [[]]},\n",
       "  {'year': '1944', 'category': 'peace', 'share': '1', 'affiliations': [[]]},\n",
       "  {'year': '1963', 'category': 'peace', 'share': '2', 'affiliations': [[]]}]}"
      ]
     },
     "execution_count": 32,
     "metadata": {},
     "output_type": "execute_result"
    }
   ],
   "source": [
    "# Find one laureate with at least three prizes\n",
    "db.laureates.find_one(criteria)"
   ]
  },
  {
   "cell_type": "code",
   "execution_count": null,
   "id": "03b21779",
   "metadata": {},
   "outputs": [],
   "source": []
  }
 ],
 "metadata": {
  "kernelspec": {
   "display_name": "Python 3 (ipykernel)",
   "language": "python",
   "name": "python3"
  },
  "language_info": {
   "codemirror_mode": {
    "name": "ipython",
    "version": 3
   },
   "file_extension": ".py",
   "mimetype": "text/x-python",
   "name": "python",
   "nbconvert_exporter": "python",
   "pygments_lexer": "ipython3",
   "version": "3.9.6"
  }
 },
 "nbformat": 4,
 "nbformat_minor": 5
}
