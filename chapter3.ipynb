{
 "cells": [
  {
   "cell_type": "code",
   "execution_count": 1,
   "id": "481d16ba",
   "metadata": {},
   "outputs": [],
   "source": [
    "from pymongo import MongoClient"
   ]
  },
  {
   "cell_type": "code",
   "execution_count": 2,
   "id": "d7ebce92",
   "metadata": {},
   "outputs": [],
   "source": [
    "client = MongoClient(port=27017)"
   ]
  },
  {
   "cell_type": "code",
   "execution_count": 3,
   "id": "3df37d78",
   "metadata": {},
   "outputs": [],
   "source": [
    "db = client.nobel"
   ]
  },
  {
   "cell_type": "code",
   "execution_count": 4,
   "id": "bfa7383d",
   "metadata": {},
   "outputs": [],
   "source": [
    "prize = db.prizes.find_one()"
   ]
  },
  {
   "cell_type": "code",
   "execution_count": 5,
   "id": "2b78474b",
   "metadata": {},
   "outputs": [],
   "source": [
    "laureate = db.laureates.find_one()"
   ]
  },
  {
   "cell_type": "code",
   "execution_count": 6,
   "id": "02b1c2bf",
   "metadata": {},
   "outputs": [
    {
     "data": {
      "text/plain": [
       "{'_id': ObjectId('613e30001d9ba63fef1deae7'),\n",
       " 'year': '2018',\n",
       " 'category': 'physics',\n",
       " 'overallMotivation': '“for groundbreaking inventions in the field of laser physics”',\n",
       " 'laureates': [{'id': '960',\n",
       "   'firstname': 'Arthur',\n",
       "   'surname': 'Ashkin',\n",
       "   'motivation': '\"for the optical tweezers and their application to biological systems\"',\n",
       "   'share': '2'},\n",
       "  {'id': '961',\n",
       "   'firstname': 'Gérard',\n",
       "   'surname': 'Mourou',\n",
       "   'motivation': '\"for their method of generating high-intensity, ultra-short optical pulses\"',\n",
       "   'share': '4'},\n",
       "  {'id': '962',\n",
       "   'firstname': 'Donna',\n",
       "   'surname': 'Strickland',\n",
       "   'motivation': '\"for their method of generating high-intensity, ultra-short optical pulses\"',\n",
       "   'share': '4'}]}"
      ]
     },
     "execution_count": 6,
     "metadata": {},
     "output_type": "execute_result"
    }
   ],
   "source": [
    "prize"
   ]
  },
  {
   "cell_type": "code",
   "execution_count": 7,
   "id": "502791a7",
   "metadata": {},
   "outputs": [
    {
     "data": {
      "text/plain": [
       "{'_id': ObjectId('613e315452d9d355d2bc17b6'),\n",
       " 'id': '102',\n",
       " 'firstname': 'Aage Niels',\n",
       " 'surname': 'Bohr',\n",
       " 'born': '1922-06-19',\n",
       " 'died': '2009-09-08',\n",
       " 'bornCountry': 'Denmark',\n",
       " 'bornCountryCode': 'DK',\n",
       " 'bornCity': 'Copenhagen',\n",
       " 'diedCountry': 'Denmark',\n",
       " 'diedCountryCode': 'DK',\n",
       " 'diedCity': 'Copenhagen',\n",
       " 'gender': 'male',\n",
       " 'prizes': [{'year': '1975',\n",
       "   'category': 'physics',\n",
       "   'share': '3',\n",
       "   'motivation': '\"for the discovery of the connection between collective motion and particle motion in atomic nuclei and the development of the theory of the structure of the atomic nucleus based on this connection\"',\n",
       "   'affiliations': [{'name': 'Niels Bohr Institute',\n",
       "     'city': 'Copenhagen',\n",
       "     'country': 'Denmark'}]}]}"
      ]
     },
     "execution_count": 7,
     "metadata": {},
     "output_type": "execute_result"
    }
   ],
   "source": [
    "laureate"
   ]
  },
  {
   "cell_type": "code",
   "execution_count": 8,
   "id": "a66b782f",
   "metadata": {},
   "outputs": [
    {
     "data": {
      "text/plain": [
       "['_id', 'year', 'category', 'overallMotivation', 'laureates']"
      ]
     },
     "execution_count": 8,
     "metadata": {},
     "output_type": "execute_result"
    }
   ],
   "source": [
    "list(prize.keys())"
   ]
  },
  {
   "cell_type": "code",
   "execution_count": 9,
   "id": "8e946c57",
   "metadata": {},
   "outputs": [
    {
     "data": {
      "text/plain": [
       "['_id',\n",
       " 'id',\n",
       " 'firstname',\n",
       " 'surname',\n",
       " 'born',\n",
       " 'died',\n",
       " 'bornCountry',\n",
       " 'bornCountryCode',\n",
       " 'bornCity',\n",
       " 'diedCountry',\n",
       " 'diedCountryCode',\n",
       " 'diedCity',\n",
       " 'gender',\n",
       " 'prizes']"
      ]
     },
     "execution_count": 9,
     "metadata": {},
     "output_type": "execute_result"
    }
   ],
   "source": [
    "list(laureate.keys())"
   ]
  },
  {
   "cell_type": "code",
   "execution_count": 10,
   "id": "938897b6",
   "metadata": {},
   "outputs": [
    {
     "data": {
      "text/plain": [
       "{'firstname': 'Antoine Henri',\n",
       " 'surname': 'Becquerel',\n",
       " 'prizes': [{'share': '2'}]}"
      ]
     },
     "execution_count": 10,
     "metadata": {},
     "output_type": "execute_result"
    }
   ],
   "source": [
    "# You want to examine the laureates of the 1903 prize in physics and how they split the prize. Here is a query without projection:\n",
    "# Which projection(s) will fetch ONLY the laureates' full names and prize share info?\n",
    "db.laureates.find_one({\"prizes\": {\"$elemMatch\": {\"category\": \"physics\", \"year\": \"1903\"}}}, [\"firstname\", \"surname\", \"prizes.share\"])\n",
    "db.laureates.find_one({\"prizes\": {\"$elemMatch\": {\"category\": \"physics\", \"year\": \"1903\"}}}, {\"firstname\": 1, \"surname\": 1, \"prizes.share\": 1, \"_id\": 0})"
   ]
  },
  {
   "cell_type": "code",
   "execution_count": null,
   "id": "86f0d7aa",
   "metadata": {},
   "outputs": [],
   "source": []
  },
  {
   "cell_type": "code",
   "execution_count": 11,
   "id": "a1544946",
   "metadata": {},
   "outputs": [
    {
     "name": "stdout",
     "output_type": "stream",
     "text": [
      "['George D. Snell', 'Gustav Stresemann', 'Glenn Theodore Seaborg', 'George J. Stigler', 'George F. Smoot', 'George E. Smith', 'George P. Smith', 'George Bernard Shaw', 'Giorgos Seferis']\n"
     ]
    }
   ],
   "source": [
    "# Find laureates whose first name starts with \"G\" and last name starts with \"S\"\n",
    "docs = db.laureates.find(filter={\"firstname\" : {\"$regex\" : \"^G\"}, \"surname\" : {\"$regex\" : \"^S\"}}, projection={\"firstname\": 1, \"surname\": 1, \"_id\": 0})\n",
    "docs[0]\n",
    "\n",
    "# Iterate over docs and concatenate first name and surname\n",
    "full_names = [doc[\"firstname\"] + \" \" + doc[\"surname\"]  for doc in docs]\n",
    "\n",
    "# Print the full names\n",
    "print(full_names)"
   ]
  },
  {
   "cell_type": "code",
   "execution_count": 12,
   "id": "b9d87817",
   "metadata": {},
   "outputs": [],
   "source": [
    "# Save documents, projecting out laureates share\n",
    "prizes = db.prizes.find({}, [\"laureates.share\"])\n",
    "\n",
    "# Iterate over prizes\n",
    "for prize in prizes:\n",
    "    # Initialize total share\n",
    "    total_share = 0\n",
    "    \n",
    "    # Iterate over laureates for the prize\n",
    "    for laureate in prize[\"laureates\"]:\n",
    "        # add the share of the laureate to total_share\n",
    "        total_share += 1 / float(laureate[\"share\"])\n",
    "        \n",
    "    # Print the total share if it != 1\n",
    "    if total_share != 1.0:\n",
    "        print(total_share)"
   ]
  },
  {
   "cell_type": "code",
   "execution_count": 13,
   "id": "5e59bb76",
   "metadata": {},
   "outputs": [
    {
     "name": "stdout",
     "output_type": "stream",
     "text": [
      "{'born': '1916-08-25', 'prizes': [{'year': '1954'}]}\n",
      "{'born': '1915-06-15', 'prizes': [{'year': '1954'}]}\n",
      "{'born': '1901-02-28', 'prizes': [{'year': '1954'}, {'year': '1962'}]}\n",
      "{'born': '1913-07-12', 'prizes': [{'year': '1955'}]}\n",
      "{'born': '1911-01-26', 'prizes': [{'year': '1955'}]}\n"
     ]
    }
   ],
   "source": [
    "# What the sort?\n",
    "docs = list(db.laureates.find(\n",
    "    {\"born\": {\"$gte\": \"1900\"}, \"prizes.year\": {\"$gte\": \"1954\"}},\n",
    "    {\"born\": 1, \"prizes.year\": 1, \"_id\": 0},\n",
    "    sort=[(\"prizes.year\", 1), (\"born\", -1)]))\n",
    "for doc in docs[:5]:\n",
    "    print(doc)"
   ]
  },
  {
   "cell_type": "code",
   "execution_count": 14,
   "id": "e6315d2c",
   "metadata": {},
   "outputs": [
    {
     "name": "stdout",
     "output_type": "stream",
     "text": [
      "Ashkin and Mourou and Strickland\n"
     ]
    }
   ],
   "source": [
    "from operator import itemgetter\n",
    "\n",
    "def all_laureates(prize):  \n",
    "    # sort the laureates by surname\n",
    "    sorted_laureates = sorted(prize[\"laureates\"], key=itemgetter(\"surname\"))\n",
    "    surnames = [laureate[\"surname\"] for laureate in sorted_laureates]\n",
    "    all_names = \" and \".join(surnames)\n",
    "    \n",
    "    return all_names\n",
    "\n",
    "# test the function on a sample doc\n",
    "print(all_laureates(db.prizes.find_one()))"
   ]
  },
  {
   "cell_type": "code",
   "execution_count": 15,
   "id": "e79105f5",
   "metadata": {},
   "outputs": [
    {
     "data": {
      "text/plain": [
       "['1901: Röntgen',\n",
       " '1902: Lorentz and Zeeman',\n",
       " '1903: Becquerel and Curie and Curie, née Sklodowska']"
      ]
     },
     "execution_count": 15,
     "metadata": {},
     "output_type": "execute_result"
    }
   ],
   "source": [
    "# find physics prizes, project year and name, and sort by year\n",
    "docs = db.prizes.find(\n",
    "           filter= {\"category\": \"physics\"}, \n",
    "           projection= [\"year\", \"laureates.firstname\", \"laureates.surname\"], \n",
    "           sort= [(\"year\", 1)])\n",
    "\n",
    "# print the year and laureate names (from all_laureates)\n",
    "[\"{year}: {names}\".format(year=doc[\"year\"], names=all_laureates(doc)) for doc in docs][:3]"
   ]
  },
  {
   "cell_type": "code",
   "execution_count": 16,
   "id": "8f3855fc",
   "metadata": {},
   "outputs": [
    {
     "name": "stdout",
     "output_type": "stream",
     "text": [
      "['chemistry', 'literature', 'medicine', 'peace', 'physics']\n"
     ]
    },
    {
     "data": {
      "text/plain": [
       "{'year': '2018', 'category': 'economics'}"
      ]
     },
     "execution_count": 16,
     "metadata": {},
     "output_type": "execute_result"
    }
   ],
   "source": [
    "# original categories from 1901\n",
    "original_categories = db.prizes.distinct(\"category\", {\"year\": \"1901\"})\n",
    "print(original_categories)\n",
    "\n",
    "# project year and category, and sort\n",
    "docs = db.prizes.find(\n",
    "        filter={},\n",
    "        projection= {\"year\": 1, \"category\": 1, \"_id\": 0},\n",
    "        sort=[(\"year\", -1), (\"category\", 1)]\n",
    ")\n",
    "docs[1]"
   ]
  },
  {
   "cell_type": "code",
   "execution_count": 17,
   "id": "921c1e96",
   "metadata": {},
   "outputs": [
    {
     "data": {
      "text/plain": [
       "'category_1_year_-1'"
      ]
     },
     "execution_count": 17,
     "metadata": {},
     "output_type": "execute_result"
    }
   ],
   "source": [
    "# Specify an index model for compound sorting\n",
    "index_model = [(\"category\", 1), (\"year\", -1)]\n",
    "db.prizes.create_index(index_model)"
   ]
  },
  {
   "cell_type": "code",
   "execution_count": 18,
   "id": "cd5507af",
   "metadata": {},
   "outputs": [
    {
     "name": "stdout",
     "output_type": "stream",
     "text": [
      "chemistry: 2011\n",
      "economics: 2017\n",
      "literature: 2017\n",
      "medicine: 2016\n",
      "peace: 2017\n",
      "physics: 1992\n",
      "\n"
     ]
    }
   ],
   "source": [
    "# Collect the last single-laureate year for each category\n",
    "report = \"\"\n",
    "for category in sorted(db.prizes.distinct(\"category\")):\n",
    "    doc = db.prizes.find_one(\n",
    "        {\"category\": category, \"laureates.share\": \"1\"},\n",
    "        sort=[(\"year\", -1)]\n",
    "    )\n",
    "    report += \"{category}: {year}\\n\".format(**doc)\n",
    "\n",
    "print(report)"
   ]
  },
  {
   "cell_type": "code",
   "execution_count": 19,
   "id": "de319774",
   "metadata": {},
   "outputs": [
    {
     "name": "stdout",
     "output_type": "stream",
     "text": [
      "[('USA', 241), ('United Kingdom', 56), ('France', 26), ('Germany', 19), ('Japan', 17)]\n"
     ]
    }
   ],
   "source": [
    "from collections import Counter\n",
    "\n",
    "# Ensure an index on country of birth\n",
    "db.laureates.create_index([(\"bornCountry\", 1)])\n",
    "\n",
    "# Collect a count of laureates for each country of birth\n",
    "n_born_and_affiliated = {\n",
    "    country: db.laureates.count_documents({\n",
    "        \"bornCountry\": country,\n",
    "        \"prizes.affiliations.country\": country\n",
    "    })\n",
    "    for country in db.laureates.distinct(\"bornCountry\")\n",
    "}\n",
    "\n",
    "five_most_common = Counter(n_born_and_affiliated).most_common(5)\n",
    "print(five_most_common)"
   ]
  },
  {
   "cell_type": "code",
   "execution_count": 20,
   "id": "3f402336",
   "metadata": {},
   "outputs": [
    {
     "data": {
      "text/plain": [
       "[{'year': '1969'},\n",
       " {'year': '1970'},\n",
       " {'year': '1971'},\n",
       " {'year': '1972'},\n",
       " {'year': '1973'}]"
      ]
     },
     "execution_count": 20,
     "metadata": {},
     "output_type": "execute_result"
    }
   ],
   "source": [
    "list(db.prizes.find({\"category\": \"economics\"},\n",
    "                    {\"year\": 1, \"_id\": 0})\n",
    "     .sort(\"year\")\n",
    "     .limit(3)\n",
    "     .limit(5))"
   ]
  },
  {
   "cell_type": "code",
   "execution_count": 28,
   "id": "b12994c4",
   "metadata": {},
   "outputs": [
    {
     "name": "stdout",
     "output_type": "stream",
     "text": [
      "[{'_id': ObjectId('613e30001d9ba63fef1decdc'),\n",
      "  'category': 'physics',\n",
      "  'laureates': [{'motivation': '\"in recognition of the extraordinary services '\n",
      "                               'he has rendered by his discovery of '\n",
      "                               'spontaneous radioactivity\"'},\n",
      "                {'motivation': '\"in recognition of the extraordinary services '\n",
      "                               'they have rendered by their joint researches '\n",
      "                               'on the radiation phenomena discovered by '\n",
      "                               'Professor Henri Becquerel\"'},\n",
      "                {'motivation': '\"in recognition of the extraordinary services '\n",
      "                               'they have rendered by their joint researches '\n",
      "                               'on the radiation phenomena discovered by '\n",
      "                               'Professor Henri Becquerel\"'}],\n",
      "  'year': '1903'},\n",
      " {'_id': ObjectId('613e30001d9ba63fef1dec83'),\n",
      "  'category': 'chemistry',\n",
      "  'laureates': [{'motivation': '\"for his discovery that enzymes can be '\n",
      "                               'crystallized\"'},\n",
      "                {'motivation': '\"for their preparation of enzymes and virus '\n",
      "                               'proteins in a pure form\"'},\n",
      "                {'motivation': '\"for their preparation of enzymes and virus '\n",
      "                               'proteins in a pure form\"'}],\n",
      "  'year': '1946'},\n",
      " {'_id': ObjectId('613e30001d9ba63fef1dec5c'),\n",
      "  'category': 'medicine',\n",
      "  'laureates': [{'motivation': '\"for their discovery of the course of the '\n",
      "                               'catalytic conversion of glycogen\"'},\n",
      "                {'motivation': '\"for their discovery of the course of the '\n",
      "                               'catalytic conversion of glycogen\"'},\n",
      "                {'motivation': '\"for his discovery of the part played by the '\n",
      "                               'hormone of the anterior pituitary lobe in the '\n",
      "                               'metabolism of sugar\"'}],\n",
      "  'year': '1947'},\n",
      " {'_id': ObjectId('613e30001d9ba63fef1dec3d'),\n",
      "  'category': 'medicine',\n",
      "  'laureates': [{'motivation': '\"for their discovery that genes act by '\n",
      "                               'regulating definite chemical events\"'},\n",
      "                {'motivation': '\"for their discovery that genes act by '\n",
      "                               'regulating definite chemical events\"'},\n",
      "                {'motivation': '\"for his discoveries concerning genetic '\n",
      "                               'recombination and the organization of the '\n",
      "                               'genetic material of bacteria\"'}],\n",
      "  'year': '1958'},\n",
      " {'_id': ObjectId('613e30001d9ba63fef1dec1d'),\n",
      "  'category': 'physics',\n",
      "  'laureates': [{'motivation': '\"for his contributions to the theory of the '\n",
      "                               'atomic nucleus and the elementary particles, '\n",
      "                               'particularly through the discovery and '\n",
      "                               'application of fundamental symmetry '\n",
      "                               'principles\"'},\n",
      "                {'motivation': '\"for their discoveries concerning nuclear '\n",
      "                               'shell structure\"'},\n",
      "                {'motivation': '\"for their discoveries concerning nuclear '\n",
      "                               'shell structure\"'}],\n",
      "  'year': '1963'}]\n"
     ]
    }
   ],
   "source": [
    "from pprint import pprint\n",
    "# Fetch prizes with quarter-share laureate(s)\n",
    "filter_ = {\"laureates.share\": \"4\"}\n",
    "\n",
    "# Save the list of field names\n",
    "projection = [\"category\", \"year\", \"laureates.motivation\"]\n",
    "\n",
    "# Save a cursor to yield the first five prizes\n",
    "cursor = db.prizes.find(filter_, projection).sort(\"year\").limit(5)\n",
    "pprint(list(cursor))"
   ]
  },
  {
   "cell_type": "code",
   "execution_count": 29,
   "id": "aeb355c5",
   "metadata": {},
   "outputs": [
    {
     "name": "stdout",
     "output_type": "stream",
     "text": [
      "[{'_id': ObjectId('613e315452d9d355d2bc1812'),\n",
      "  'firstname': 'Charles Thomson Rees',\n",
      "  'prizes': [{'affiliations': [{'city': 'Cambridge',\n",
      "                                'country': 'United Kingdom',\n",
      "                                'name': 'University of Cambridge'}],\n",
      "              'category': 'physics',\n",
      "              'motivation': '\"for his method of making the paths of '\n",
      "                            'electrically charged particles visible by '\n",
      "                            'condensation of vapour\"',\n",
      "              'share': '2',\n",
      "              'year': '1927'}],\n",
      "  'surname': 'Wilson'},\n",
      " {'_id': ObjectId('613e315452d9d355d2bc1827'),\n",
      "  'firstname': 'Sir John Douglas',\n",
      "  'prizes': [{'affiliations': [{'city': 'Harwell, Berkshire',\n",
      "                                'country': 'United Kingdom',\n",
      "                                'name': 'Atomic Energy Research '\n",
      "                                        'Establishment'}],\n",
      "              'category': 'physics',\n",
      "              'motivation': '\"for their pioneer work on the transmutation of '\n",
      "                            'atomic nuclei by artificially accelerated atomic '\n",
      "                            'particles\"',\n",
      "              'share': '2',\n",
      "              'year': '1951'}],\n",
      "  'surname': 'Cockcroft'},\n",
      " {'_id': ObjectId('613e315452d9d355d2bc1828'),\n",
      "  'firstname': 'Ernest Thomas Sinton',\n",
      "  'prizes': [{'affiliations': [{'city': 'Dublin',\n",
      "                                'country': 'Ireland',\n",
      "                                'name': 'Trinity College'}],\n",
      "              'category': 'physics',\n",
      "              'motivation': '\"for their pioneer work on the transmutation of '\n",
      "                            'atomic nuclei by artificially accelerated atomic '\n",
      "                            'particles\"',\n",
      "              'share': '2',\n",
      "              'year': '1951'}],\n",
      "  'surname': 'Walton'}]\n"
     ]
    }
   ],
   "source": [
    "from pprint import pprint\n",
    "\n",
    "# Write a function to retrieve a page of data\n",
    "def get_particle_laureates(page_number=1, page_size=3):\n",
    "    if page_number < 1 or not isinstance(page_number, int):\n",
    "        raise ValueError(\"Pages are natural numbers (starting from 1).\")\n",
    "    particle_laureates = list(\n",
    "        db.laureates.find(\n",
    "            {\"prizes.motivation\": {\"$regex\": \"particle\"}},\n",
    "            [\"firstname\", \"surname\", \"prizes\"])\n",
    "        .sort([(\"prizes.year\", 1), (\"surname\", 1)])\n",
    "        .skip(page_size * (page_number - 1))\n",
    "        .limit(page_size))\n",
    "    return particle_laureates\n",
    "\n",
    "# Collect and save the first nine pages\n",
    "pages = [get_particle_laureates(page_number=page) for page in range(1,9)]\n",
    "pprint(pages[0])"
   ]
  },
  {
   "cell_type": "code",
   "execution_count": null,
   "id": "95ea4705",
   "metadata": {},
   "outputs": [],
   "source": []
  }
 ],
 "metadata": {
  "kernelspec": {
   "display_name": "Python 3 (ipykernel)",
   "language": "python",
   "name": "python3"
  },
  "language_info": {
   "codemirror_mode": {
    "name": "ipython",
    "version": 3
   },
   "file_extension": ".py",
   "mimetype": "text/x-python",
   "name": "python",
   "nbconvert_exporter": "python",
   "pygments_lexer": "ipython3",
   "version": "3.9.6"
  }
 },
 "nbformat": 4,
 "nbformat_minor": 5
}
