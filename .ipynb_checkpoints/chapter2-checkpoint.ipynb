{
 "cells": [
  {
   "cell_type": "code",
   "execution_count": 1,
   "id": "481d16ba",
   "metadata": {},
   "outputs": [],
   "source": [
    "from pymongo import MongoClient"
   ]
  },
  {
   "cell_type": "code",
   "execution_count": 2,
   "id": "d7ebce92",
   "metadata": {},
   "outputs": [],
   "source": [
    "client = MongoClient(port=27017)"
   ]
  },
  {
   "cell_type": "code",
   "execution_count": 3,
   "id": "3df37d78",
   "metadata": {},
   "outputs": [],
   "source": [
    "db = client.nobel"
   ]
  },
  {
   "cell_type": "code",
   "execution_count": 5,
   "id": "bfa7383d",
   "metadata": {},
   "outputs": [],
   "source": [
    "prize = db.prizes.find_one()"
   ]
  },
  {
   "cell_type": "code",
   "execution_count": 6,
   "id": "2b78474b",
   "metadata": {},
   "outputs": [],
   "source": [
    "laureate = db.laureates.find_one()"
   ]
  },
  {
   "cell_type": "code",
   "execution_count": 7,
   "id": "02b1c2bf",
   "metadata": {},
   "outputs": [
    {
     "data": {
      "text/plain": [
       "{'_id': ObjectId('613e30001d9ba63fef1deae7'),\n",
       " 'year': '2018',\n",
       " 'category': 'physics',\n",
       " 'overallMotivation': '“for groundbreaking inventions in the field of laser physics”',\n",
       " 'laureates': [{'id': '960',\n",
       "   'firstname': 'Arthur',\n",
       "   'surname': 'Ashkin',\n",
       "   'motivation': '\"for the optical tweezers and their application to biological systems\"',\n",
       "   'share': '2'},\n",
       "  {'id': '961',\n",
       "   'firstname': 'Gérard',\n",
       "   'surname': 'Mourou',\n",
       "   'motivation': '\"for their method of generating high-intensity, ultra-short optical pulses\"',\n",
       "   'share': '4'},\n",
       "  {'id': '962',\n",
       "   'firstname': 'Donna',\n",
       "   'surname': 'Strickland',\n",
       "   'motivation': '\"for their method of generating high-intensity, ultra-short optical pulses\"',\n",
       "   'share': '4'}]}"
      ]
     },
     "execution_count": 7,
     "metadata": {},
     "output_type": "execute_result"
    }
   ],
   "source": [
    "prize"
   ]
  },
  {
   "cell_type": "code",
   "execution_count": 8,
   "id": "502791a7",
   "metadata": {},
   "outputs": [
    {
     "data": {
      "text/plain": [
       "{'_id': ObjectId('613e315452d9d355d2bc17b6'),\n",
       " 'id': '102',\n",
       " 'firstname': 'Aage Niels',\n",
       " 'surname': 'Bohr',\n",
       " 'born': '1922-06-19',\n",
       " 'died': '2009-09-08',\n",
       " 'bornCountry': 'Denmark',\n",
       " 'bornCountryCode': 'DK',\n",
       " 'bornCity': 'Copenhagen',\n",
       " 'diedCountry': 'Denmark',\n",
       " 'diedCountryCode': 'DK',\n",
       " 'diedCity': 'Copenhagen',\n",
       " 'gender': 'male',\n",
       " 'prizes': [{'year': '1975',\n",
       "   'category': 'physics',\n",
       "   'share': '3',\n",
       "   'motivation': '\"for the discovery of the connection between collective motion and particle motion in atomic nuclei and the development of the theory of the structure of the atomic nucleus based on this connection\"',\n",
       "   'affiliations': [{'name': 'Niels Bohr Institute',\n",
       "     'city': 'Copenhagen',\n",
       "     'country': 'Denmark'}]}]}"
      ]
     },
     "execution_count": 8,
     "metadata": {},
     "output_type": "execute_result"
    }
   ],
   "source": [
    "laureate"
   ]
  },
  {
   "cell_type": "code",
   "execution_count": 11,
   "id": "a66b782f",
   "metadata": {},
   "outputs": [
    {
     "data": {
      "text/plain": [
       "['_id', 'year', 'category', 'overallMotivation', 'laureates']"
      ]
     },
     "execution_count": 11,
     "metadata": {},
     "output_type": "execute_result"
    }
   ],
   "source": [
    "list(prize.keys())"
   ]
  },
  {
   "cell_type": "code",
   "execution_count": 12,
   "id": "8e946c57",
   "metadata": {},
   "outputs": [
    {
     "data": {
      "text/plain": [
       "['_id',\n",
       " 'id',\n",
       " 'firstname',\n",
       " 'surname',\n",
       " 'born',\n",
       " 'died',\n",
       " 'bornCountry',\n",
       " 'bornCountryCode',\n",
       " 'bornCity',\n",
       " 'diedCountry',\n",
       " 'diedCountryCode',\n",
       " 'diedCity',\n",
       " 'gender',\n",
       " 'prizes']"
      ]
     },
     "execution_count": 12,
     "metadata": {},
     "output_type": "execute_result"
    }
   ],
   "source": [
    "list(laureate.keys())"
   ]
  },
  {
   "cell_type": "code",
   "execution_count": 13,
   "id": "3ca2cbbe",
   "metadata": {},
   "outputs": [
    {
     "data": {
      "text/plain": [
       "['chemistry', 'economics', 'literature', 'medicine', 'peace', 'physics']"
      ]
     },
     "execution_count": 13,
     "metadata": {},
     "output_type": "execute_result"
    }
   ],
   "source": [
    "db.prizes.distinct(\"category\")"
   ]
  },
  {
   "cell_type": "code",
   "execution_count": 14,
   "id": "163a1b72",
   "metadata": {},
   "outputs": [
    {
     "data": {
      "text/plain": [
       "['chemistry', 'economics', 'literature', 'medicine', 'peace', 'physics']"
      ]
     },
     "execution_count": 14,
     "metadata": {},
     "output_type": "execute_result"
    }
   ],
   "source": [
    "db.laureates.distinct(\"prizes.category\")"
   ]
  },
  {
   "cell_type": "code",
   "execution_count": 18,
   "id": "b0d40de7",
   "metadata": {},
   "outputs": [
    {
     "data": {
      "text/plain": [
       "True"
      ]
     },
     "execution_count": 18,
     "metadata": {},
     "output_type": "execute_result"
    }
   ],
   "source": [
    "set(db.prizes.distinct(\"category\")) == set(db.laureates.distinct(\"prizes.category\"))"
   ]
  },
  {
   "cell_type": "code",
   "execution_count": 20,
   "id": "7348ccaf",
   "metadata": {},
   "outputs": [
    {
     "data": {
      "text/plain": [
       "{'Barbados',\n",
       " 'Czechoslovakia',\n",
       " 'East Germany',\n",
       " 'Gabon',\n",
       " 'Greece',\n",
       " 'Israel',\n",
       " 'Jamaica',\n",
       " 'Northern Rhodesia (now Zambia)',\n",
       " 'Philippines',\n",
       " 'Puerto Rico',\n",
       " 'Tunisia',\n",
       " 'USSR',\n",
       " 'Yugoslavia (now Serbia)'}"
      ]
     },
     "execution_count": 20,
     "metadata": {},
     "output_type": "execute_result"
    }
   ],
   "source": [
    "# Countries recorded as countries of death but not as countries of birth\n",
    "countries = set(db.laureates.distinct(\"diedCountry\")) - set(db.laureates.distinct(\"bornCountry\"))\n",
    "countries"
   ]
  },
  {
   "cell_type": "code",
   "execution_count": 22,
   "id": "685cc12f",
   "metadata": {},
   "outputs": [
    {
     "data": {
      "text/plain": [
       "29"
      ]
     },
     "execution_count": 22,
     "metadata": {},
     "output_type": "execute_result"
    }
   ],
   "source": [
    "# The number of distinct countries of laureate affiliation for prizes\n",
    "count = len(db.laureates.distinct(\"prizes.affiliations.country\"))\n",
    "count"
   ]
  },
  {
   "cell_type": "code",
   "execution_count": 26,
   "id": "24eba0fe",
   "metadata": {},
   "outputs": [
    {
     "data": {
      "text/plain": [
       "['Australia', 'Denmark', 'USA', 'United Kingdom']"
      ]
     },
     "execution_count": 26,
     "metadata": {},
     "output_type": "execute_result"
    }
   ],
   "source": [
    "db.laureates.distinct(\"prizes.affiliations.country\", {\"bornCountry\": \"USA\"})"
   ]
  },
  {
   "cell_type": "code",
   "execution_count": 25,
   "id": "53a6b9b0",
   "metadata": {},
   "outputs": [
    {
     "data": {
      "text/plain": [
       "{'_id': ObjectId('613e315452d9d355d2bc17b7'),\n",
       " 'id': '95',\n",
       " 'firstname': 'Leon Neil',\n",
       " 'surname': 'Cooper',\n",
       " 'born': '1930-02-28',\n",
       " 'died': '0000-00-00',\n",
       " 'bornCountry': 'USA',\n",
       " 'bornCountryCode': 'US',\n",
       " 'bornCity': 'New York, NY',\n",
       " 'gender': 'male',\n",
       " 'prizes': [{'year': '1972',\n",
       "   'category': 'physics',\n",
       "   'share': '3',\n",
       "   'motivation': '\"for their jointly developed theory of superconductivity, usually called the BCS-theory\"',\n",
       "   'affiliations': [{'name': 'Brown University',\n",
       "     'city': 'Providence, RI',\n",
       "     'country': 'USA'}]}]}"
      ]
     },
     "execution_count": 25,
     "metadata": {},
     "output_type": "execute_result"
    }
   ],
   "source": [
    "db.laureates.find_one({\"bornCountry\": \"USA\"})"
   ]
  },
  {
   "cell_type": "code",
   "execution_count": 30,
   "id": "f4f9b6f9",
   "metadata": {},
   "outputs": [
    {
     "data": {
      "text/plain": [
       "True"
      ]
     },
     "execution_count": 30,
     "metadata": {},
     "output_type": "execute_result"
    }
   ],
   "source": [
    "# Save a filter for prize documents with three or more laureates\n",
    "criteria = {\"laureates.2\": {\"$exists\": True}}\n",
    "\n",
    "# Save the set of distinct prize categories in documents satisfying the criteria\n",
    "triple_play_categories = set(db.prizes.distinct(\"category\", criteria))\n",
    "\n",
    "# triple_play_categories\n",
    "\n",
    "# Confirm literature as the only category not satisfying the criteria.\n",
    "set(db.prizes.distinct(\"category\")) - triple_play_categories == {\"literature\"}"
   ]
  },
  {
   "cell_type": "code",
   "execution_count": 33,
   "id": "56e3bc00",
   "metadata": {},
   "outputs": [
    {
     "data": {
      "text/plain": [
       "18"
      ]
     },
     "execution_count": 33,
     "metadata": {},
     "output_type": "execute_result"
    }
   ],
   "source": [
    "# For reference, the code below determines the number of laureates who won a shared prize in physics after >= 1945.\n",
    "db.laureates.count_documents({\n",
    "    \"prizes\": {\"$elemMatch\": {\n",
    "        \"category\": \"physics\",\n",
    "        \"share\": \"1\",\n",
    "        \"year\": {\"$gte\": \"1945\"}}}})"
   ]
  },
  {
   "cell_type": "code",
   "execution_count": 32,
   "id": "3154e07d",
   "metadata": {},
   "outputs": [],
   "source": [
    "# number of laureates who won a shared prize in physics after World War II"
   ]
  },
  {
   "cell_type": "code",
   "execution_count": 34,
   "id": "8ce755ba",
   "metadata": {},
   "outputs": [
    {
     "data": {
      "text/plain": [
       "143"
      ]
     },
     "execution_count": 34,
     "metadata": {},
     "output_type": "execute_result"
    }
   ],
   "source": [
    "db.laureates.count_documents({\n",
    "    \"prizes\": {\"$elemMatch\": {\n",
    "        \"category\": \"physics\",\n",
    "        \"share\": {\"$ne\": \"1\"},\n",
    "        \"year\": {\"$gte\": \"1945\"}}}})"
   ]
  },
  {
   "cell_type": "code",
   "execution_count": 35,
   "id": "cabd2e4e",
   "metadata": {},
   "outputs": [
    {
     "data": {
      "text/plain": [
       "0.1258741258741259"
      ]
     },
     "execution_count": 35,
     "metadata": {},
     "output_type": "execute_result"
    }
   ],
   "source": [
    "18/143"
   ]
  },
  {
   "cell_type": "code",
   "execution_count": 45,
   "id": "952467e9",
   "metadata": {},
   "outputs": [
    {
     "name": "stdout",
     "output_type": "stream",
     "text": [
      "1.3653846153846154\n"
     ]
    }
   ],
   "source": [
    "# Save a filter for laureates with unshared prizes\n",
    "unshared = {\n",
    "    \"prizes\": {\"$elemMatch\": {\n",
    "        \"category\": {\"$nin\": [\"physics\", \"chemistry\", \"medicine\"]},\n",
    "        \"share\": \"1\",\n",
    "        \"year\": {\"$gte\": \"1945\"},\n",
    "    }}}\n",
    "\n",
    "# Save a filter for laureates with shared prizes\n",
    "shared = {\n",
    "    \"prizes\": {\"$elemMatch\": {\n",
    "        \"category\": {\"$nin\": [\"physics\", \"chemistry\", \"medicine\"]},\n",
    "        \"share\": {\"$ne\": \"1\"},\n",
    "        \"year\": {\"$gte\": \"1945\"},\n",
    "    }}}\n",
    "\n",
    "db.laureates.count_documents(unshared)\n",
    "db.laureates.count_documents(shared)\n",
    "ratio = db.laureates.count_documents(unshared) / db.laureates.count_documents(shared)\n",
    "print(ratio)"
   ]
  },
  {
   "cell_type": "code",
   "execution_count": 46,
   "id": "6ffdb467",
   "metadata": {},
   "outputs": [
    {
     "data": {
      "text/plain": [
       "['female', 'male', 'org']"
      ]
     },
     "execution_count": 46,
     "metadata": {},
     "output_type": "execute_result"
    }
   ],
   "source": [
    "db.laureates.distinct(\"gender\")"
   ]
  },
  {
   "cell_type": "code",
   "execution_count": 50,
   "id": "806c4785",
   "metadata": {},
   "outputs": [
    {
     "name": "stdout",
     "output_type": "stream",
     "text": [
      "0.84\n"
     ]
    }
   ],
   "source": [
    "# Save a filter for organization laureates with prizes won before 1945\n",
    "before = {\n",
    "    \"gender\": \"org\",\n",
    "    \"prizes.year\": {\"$lt\": \"1945\"},\n",
    "    }\n",
    "\n",
    "# Save a filter for organization laureates with prizes won in or after 1945\n",
    "in_or_after = {\n",
    "    \"gender\": \"org\",\n",
    "    \"prizes.year\": {\"$gte\": \"1945\"},\n",
    "    }\n",
    "\n",
    "n_before = db.laureates.count_documents(before)\n",
    "n_in_or_after = db.laureates.count_documents(in_or_after)\n",
    "\n",
    "n_before\n",
    "n_in_or_after\n",
    "ratio = n_in_or_after / (n_in_or_after + n_before)\n",
    "print(ratio)"
   ]
  },
  {
   "cell_type": "code",
   "execution_count": 53,
   "id": "da6d60e9",
   "metadata": {},
   "outputs": [
    {
     "data": {
      "text/plain": [
       "9"
      ]
     },
     "execution_count": 53,
     "metadata": {},
     "output_type": "execute_result"
    }
   ],
   "source": [
    "# How many laureates in total have a first name beginning with \"G\" and a surname beginning with \"S\"?\n",
    "from bson import Regex\n",
    "db.laureates.count_documents({\"firstname\": Regex(\"^G\"), \"surname\": Regex(\"^S\")})"
   ]
  },
  {
   "cell_type": "code",
   "execution_count": 55,
   "id": "af8b265e",
   "metadata": {},
   "outputs": [
    {
     "name": "stdout",
     "output_type": "stream",
     "text": [
      "{'Mecklenburg (now Germany)', 'West Germany (now Germany)', 'Germany (now Russia)', 'W&uuml;rttemberg (now Germany)', 'East Friesland (now Germany)', 'Germany', 'Hesse-Kassel (now Germany)', 'Germany (now Poland)', 'Schleswig (now Germany)', 'Prussia (now Germany)', 'Bavaria (now Germany)', 'Germany (now France)'}\n"
     ]
    }
   ],
   "source": [
    "# Filter for laureates with \"Germany\" in their \"bornCountry\" value\n",
    "criteria = {\"bornCountry\": Regex(\"Germany\")}\n",
    "print(set(db.laureates.distinct(\"bornCountry\", criteria)))"
   ]
  },
  {
   "cell_type": "code",
   "execution_count": 56,
   "id": "8e56f4a9",
   "metadata": {},
   "outputs": [
    {
     "name": "stdout",
     "output_type": "stream",
     "text": [
      "{'Germany', 'Germany (now Poland)', 'Germany (now Russia)', 'Germany (now France)'}\n"
     ]
    }
   ],
   "source": [
    "# Filter for laureates with a \"bornCountry\" value starting with \"Germany\"\n",
    "criteria = {\"bornCountry\": Regex(\"^Germany\")}\n",
    "print(set(db.laureates.distinct(\"bornCountry\", criteria)))"
   ]
  },
  {
   "cell_type": "code",
   "execution_count": 61,
   "id": "48c98650",
   "metadata": {},
   "outputs": [
    {
     "name": "stdout",
     "output_type": "stream",
     "text": [
      "{'Germany (now Poland)', 'Germany (now Russia)', 'Germany (now France)'}\n"
     ]
    }
   ],
   "source": [
    "# Fill in a string value to be sandwiched between the strings \"^Germany \" and \"now\"\n",
    "criteria = {\"bornCountry\": Regex(\"^Germany \" + \"\\(\" + \"now\")}\n",
    "print(set(db.laureates.distinct(\"bornCountry\", criteria)))"
   ]
  },
  {
   "cell_type": "code",
   "execution_count": 64,
   "id": "71237c15",
   "metadata": {},
   "outputs": [
    {
     "name": "stdout",
     "output_type": "stream",
     "text": [
      "{'Mecklenburg (now Germany)', 'West Germany (now Germany)', 'W&uuml;rttemberg (now Germany)', 'East Friesland (now Germany)', 'Hesse-Kassel (now Germany)', 'Schleswig (now Germany)', 'Prussia (now Germany)', 'Bavaria (now Germany)'}\n"
     ]
    }
   ],
   "source": [
    "#Filter for currently-Germany countries of birth. Fill in a string value to be sandwiched between the strings \"now\" and \"$\"\n",
    "criteria = {\"bornCountry\": Regex(\"now\" + \" Germany\\)\" + \"$\")}\n",
    "print(set(db.laureates.distinct(\"bornCountry\", criteria)))"
   ]
  },
  {
   "cell_type": "code",
   "execution_count": 65,
   "id": "794942cf",
   "metadata": {},
   "outputs": [
    {
     "name": "stdout",
     "output_type": "stream",
     "text": [
      "[('William Bradford', 'Shockley'), ('John', 'Bardeen'), ('Walter Houser', 'Brattain')]\n"
     ]
    }
   ],
   "source": [
    "# Save a filter for laureates with prize motivation values containing \"transistor\" as a substring\n",
    "criteria = {\"prizes.motivation\": Regex(\"transistor\")}\n",
    "\n",
    "# Save the field names corresponding to a laureate's first name and last name\n",
    "first, last = \"firstname\", \"surname\"\n",
    "print([(laureate[first], laureate[last]) for laureate in db.laureates.find(criteria)])"
   ]
  },
  {
   "cell_type": "code",
   "execution_count": null,
   "id": "938897b6",
   "metadata": {},
   "outputs": [],
   "source": []
  }
 ],
 "metadata": {
  "kernelspec": {
   "display_name": "Python 3 (ipykernel)",
   "language": "python",
   "name": "python3"
  },
  "language_info": {
   "codemirror_mode": {
    "name": "ipython",
    "version": 3
   },
   "file_extension": ".py",
   "mimetype": "text/x-python",
   "name": "python",
   "nbconvert_exporter": "python",
   "pygments_lexer": "ipython3",
   "version": "3.9.6"
  }
 },
 "nbformat": 4,
 "nbformat_minor": 5
}
